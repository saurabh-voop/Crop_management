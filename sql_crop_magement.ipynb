{
 "cells": [
  {
   "cell_type": "code",
   "execution_count": 1,
   "metadata": {},
   "outputs": [],
   "source": [
    "import mysql.connector\n",
    "import random\n",
    "from faker import Faker\n",
    "from datetime import datetime, timedelta"
   ]
  },
  {
   "cell_type": "code",
   "execution_count": 2,
   "metadata": {},
   "outputs": [],
   "source": [
    "# INITILAIZE FAKER\n",
    "fake = Faker()"
   ]
  },
  {
   "cell_type": "code",
   "execution_count": 5,
   "metadata": {},
   "outputs": [],
   "source": [
    "DB_config = {\n",
    "    \"host\": \"localhost\",\n",
    "    \"user\": \"root\",\n",
    "    \"password\": \"sau123\",\n",
    "    \"database\": \"crop_management\"\n",
    "}"
   ]
  },
  {
   "cell_type": "code",
   "execution_count": 12,
   "metadata": {},
   "outputs": [],
   "source": [
    "## CONNECT to MYSQL\n",
    "conn = mysql.connector.connect(**DB_config)\n",
    "cursor = conn.cursor()"
   ]
  },
  {
   "cell_type": "code",
   "execution_count": 13,
   "metadata": {},
   "outputs": [],
   "source": [
    "# Create crops table if not exists\n",
    "cursor.execute(\"\"\"\n",
    "CREATE TABLE IF NOT EXISTS crops (\n",
    "    id INT AUTO_INCREMENT PRIMARY KEY,\n",
    "    crop_name VARCHAR(255) NOT NULL,\n",
    "    planting_date DATE,\n",
    "    harvest_date DATE,\n",
    "    growth_stage VARCHAR(255),\n",
    "    pest_control_measures TEXT,\n",
    "    yield_prediction INT\n",
    ")\n",
    "\"\"\")\n",
    "conn.commit()"
   ]
  },
  {
   "cell_type": "code",
   "execution_count": 14,
   "metadata": {},
   "outputs": [],
   "source": [
    "# List of sample crop names\n",
    "crop_names = [\"Wheat\", \"Rice\", \"Corn\", \"Soybean\", \"Barley\", \"Sugarcane\", \"Cotton\", \"Potato\", \"Tomato\", \"Lettuce\"]\n",
    "\n",
    "# List of possible growth stages\n",
    "growth_stages = [\"Seedling\", \"Vegetative\", \"Flowering\", \"Fruiting\", \"Maturity\"]\n",
    "\n",
    "# List of sample pest control measures\n",
    "pest_control_measures_list = [\n",
    "    \"Use of organic pesticides\",\n",
    "    \"Crop rotation\",\n",
    "    \"Neem oil application\",\n",
    "    \"Biological pest control\",\n",
    "    \"Chemical pesticides\",\n",
    "    \"Regular field monitoring\",\n",
    "]"
   ]
  },
  {
   "cell_type": "code",
   "execution_count": 15,
   "metadata": {},
   "outputs": [],
   "source": [
    "# Function to generate random data for crops\n",
    "def generate_data():\n",
    "    crop_name = random.choice(crop_names)\n",
    "    planting_date = fake.date_between(start_date=\"-2y\", end_date=\"today\")  # Planting in last 2 years\n",
    "    harvest_date = planting_date + timedelta(days=random.randint(60, 180))  # Harvest after 2-6 months\n",
    "    growth_stage = random.choice(growth_stages)\n",
    "    pest_control = random.choice(pest_control_measures_list)\n",
    "    yield_prediction = random.randint(500, 5000)  # Yield in kg\n",
    "    \n",
    "    return (crop_name, planting_date, harvest_date, growth_stage, pest_control, yield_prediction)"
   ]
  },
  {
   "cell_type": "code",
   "execution_count": 16,
   "metadata": {},
   "outputs": [
    {
     "name": "stdout",
     "output_type": "stream",
     "text": [
      "10000 records inserted...\n",
      "20000 records inserted...\n",
      "30000 records inserted...\n",
      "40000 records inserted...\n",
      "50000 records inserted...\n",
      "60000 records inserted...\n",
      "70000 records inserted...\n",
      "80000 records inserted...\n",
      "90000 records inserted...\n",
      "100000 records inserted...\n",
      "110000 records inserted...\n",
      "120000 records inserted...\n",
      "130000 records inserted...\n",
      "140000 records inserted...\n",
      "150000 records inserted...\n",
      "160000 records inserted...\n",
      "170000 records inserted...\n",
      "180000 records inserted...\n",
      "190000 records inserted...\n",
      "200000 records inserted...\n",
      "210000 records inserted...\n",
      "220000 records inserted...\n",
      "230000 records inserted...\n",
      "240000 records inserted...\n",
      "250000 records inserted...\n",
      "260000 records inserted...\n",
      "270000 records inserted...\n",
      "280000 records inserted...\n",
      "290000 records inserted...\n",
      "300000 records inserted...\n",
      "310000 records inserted...\n",
      "320000 records inserted...\n",
      "330000 records inserted...\n",
      "340000 records inserted...\n",
      "350000 records inserted...\n",
      "360000 records inserted...\n",
      "370000 records inserted...\n",
      "380000 records inserted...\n",
      "390000 records inserted...\n",
      "400000 records inserted...\n",
      "410000 records inserted...\n",
      "420000 records inserted...\n",
      "430000 records inserted...\n",
      "440000 records inserted...\n",
      "450000 records inserted...\n",
      "460000 records inserted...\n",
      "470000 records inserted...\n",
      "480000 records inserted...\n",
      "490000 records inserted...\n",
      "500000 records inserted...\n",
      "510000 records inserted...\n",
      "520000 records inserted...\n",
      "530000 records inserted...\n",
      "540000 records inserted...\n",
      "550000 records inserted...\n",
      "560000 records inserted...\n",
      "570000 records inserted...\n",
      "580000 records inserted...\n",
      "590000 records inserted...\n",
      "600000 records inserted...\n",
      "610000 records inserted...\n",
      "620000 records inserted...\n",
      "630000 records inserted...\n",
      "640000 records inserted...\n",
      "650000 records inserted...\n",
      "660000 records inserted...\n",
      "670000 records inserted...\n",
      "680000 records inserted...\n",
      "690000 records inserted...\n",
      "700000 records inserted...\n",
      "710000 records inserted...\n",
      "720000 records inserted...\n",
      "730000 records inserted...\n",
      "740000 records inserted...\n",
      "750000 records inserted...\n",
      "760000 records inserted...\n",
      "770000 records inserted...\n",
      "780000 records inserted...\n",
      "790000 records inserted...\n",
      "800000 records inserted...\n",
      "810000 records inserted...\n",
      "820000 records inserted...\n",
      "830000 records inserted...\n",
      "840000 records inserted...\n",
      "850000 records inserted...\n",
      "860000 records inserted...\n",
      "870000 records inserted...\n",
      "880000 records inserted...\n",
      "890000 records inserted...\n",
      "900000 records inserted...\n",
      "910000 records inserted...\n",
      "920000 records inserted...\n",
      "930000 records inserted...\n",
      "940000 records inserted...\n",
      "950000 records inserted...\n",
      "960000 records inserted...\n",
      "970000 records inserted...\n",
      "980000 records inserted...\n",
      "990000 records inserted...\n",
      "1000000 records inserted...\n",
      "✅ Data insertion completed successfully!\n"
     ]
    }
   ],
   "source": [
    "# Batch insert records in chunks\n",
    "batch_size = 10000  # Insert 10,000 at a time for efficiency\n",
    "total_records = 1000000\n",
    "\n",
    "for i in range(0, total_records, batch_size):\n",
    "    data_batch = [generate_data() for _ in range(batch_size)]\n",
    "    \n",
    "    # Execute batch insert\n",
    "    cursor.executemany(\"\"\"\n",
    "        INSERT INTO crops (crop_name, planting_date, harvest_date, growth_stage, pest_control_measures, yield_prediction)\n",
    "        VALUES (%s, %s, %s, %s, %s, %s)\n",
    "    \"\"\", data_batch)\n",
    "    conn.commit()\n",
    "    \n",
    "    print(f\"{i + batch_size} records inserted...\")\n",
    "\n",
    "print(\"✅ Data insertion completed successfully!\")\n",
    "\n",
    "# Close the database connection\n",
    "cursor.close()\n",
    "conn.close()"
   ]
  },
  {
   "cell_type": "code",
   "execution_count": 17,
   "metadata": {},
   "outputs": [
    {
     "name": "stdout",
     "output_type": "stream",
     "text": [
      "✅ Data exported to crops_data.csv successfully!\n"
     ]
    }
   ],
   "source": [
    "import pandas as pd\n",
    "\n",
    "# Convert the data_batch to a DataFrame\n",
    "df = pd.DataFrame(data_batch, columns=['crop_name', 'planting_date', 'harvest_date', 'growth_stage', 'pest_control_measures', 'yield_prediction'])\n",
    "\n",
    "# Export the DataFrame to a CSV file\n",
    "df.to_csv('crops_data.csv', index=False)\n",
    "\n",
    "print(\"✅ Data exported to crops_data.csv successfully!\")"
   ]
  },
  {
   "cell_type": "code",
   "execution_count": null,
   "metadata": {},
   "outputs": [],
   "source": []
  }
 ],
 "metadata": {
  "kernelspec": {
   "display_name": "Python 3",
   "language": "python",
   "name": "python3"
  },
  "language_info": {
   "codemirror_mode": {
    "name": "ipython",
    "version": 3
   },
   "file_extension": ".py",
   "mimetype": "text/x-python",
   "name": "python",
   "nbconvert_exporter": "python",
   "pygments_lexer": "ipython3",
   "version": "3.12.4"
  }
 },
 "nbformat": 4,
 "nbformat_minor": 2
}
